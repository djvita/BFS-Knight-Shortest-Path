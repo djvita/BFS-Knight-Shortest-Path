{
 "cells": [
  {
   "cell_type": "markdown",
   "metadata": {},
   "source": [
    "# Shortest Knight's Moves using BFS\n",
    "## Problem  \n",
    "There’s a chess board of size $N × N$ , and an piece Knight, which has the initial position $(x, y)$.  \n",
    "\n",
    "Knight can step by going forward or backward two units in one direction, and one units in the other direction.  \n",
    "\n",
    "Find a way to position $(N, N)$ for this Knight piece.  "
   ]
  },
  {
   "cell_type": "code",
   "execution_count": 12,
   "metadata": {
    "collapsed": true
   },
   "outputs": [],
   "source": [
    "import sys\n",
    "\n",
    "class graph(object):\n",
    "    \"\"\"unweighted directed graph\n",
    "    \"\"\"\n",
    "\n",
    "    def __init__(self):\n",
    "        \"\"\"set _vmap to and _vprev an empty python dict\n",
    "        all vertex are represented by a simple index\n",
    "\n",
    "        _vmap: {vertex x: x's adjacency list}\n",
    "        _vprev: {vertex x: x's prev vertex computed by bfs routine}\n",
    "        \"\"\"\n",
    "        self._vmap = {};\n",
    "        self._vprev = {};\n",
    "\n",
    "    def add_edge(self, start, end):\n",
    "        \"\"\"add an edge to the graph\n",
    "        \"\"\"\n",
    "        if self._vmap.has_key(start):\n",
    "            self._vmap[start].append(end)\n",
    "        else:\n",
    "            self._vmap[start] = [end]\n",
    "\n",
    "    def bfs_shortest(self, start):\n",
    "        \"\"\"one-source shortest-path algorithm\n",
    "        \"\"\"\n",
    "        queue = [start]\n",
    "\n",
    "        self._vprev[start] = None\n",
    "\n",
    "        while len(queue) != 0:\n",
    "            v = queue[0]\n",
    "            queue.pop(0)\n",
    "\n",
    "            if self._vmap.has_key(v):\n",
    "                v_adj = self._vmap[v]\n",
    "            else:\n",
    "                continue\n",
    "\n",
    "            for nextv in v_adj:\n",
    "                if self._vprev.has_key(nextv):# and self._vprev[nextv] is not None:\n",
    "                    # nextv has already found its parent\"\"\n",
    "                    continue\n",
    "                else:\n",
    "                    queue.append(nextv)\n",
    "                    self._vprev[nextv] = v\n",
    "\n",
    "    def get_path(self, end):\n",
    "        \"\"\"return the shortest path as a python list\n",
    "        \"\"\"\n",
    "        v = end;\n",
    "        path = []\n",
    "        while self._vprev.has_key(v) and self._vprev[v] is not None:\n",
    "            path.insert(0, v)\n",
    "            v = self._vprev[v]\n",
    "\n",
    "        if self._vprev.has_key(v):\n",
    "            path.insert(0, v)   # insert the start point to the path\n",
    "        else:\n",
    "            print \"destination %d is not exist or unreachable\" % v\n",
    "\n",
    "        return path"
   ]
  },
  {
   "cell_type": "code",
   "execution_count": 13,
   "metadata": {
    "collapsed": true
   },
   "outputs": [],
   "source": [
    "class chessboard(object):\n",
    "    \"\"\"a chessboard of size n*n class\n",
    "    \"\"\"\n",
    "\n",
    "    def __init__(self, n):\n",
    "        \"\"\"build the internal graph representation of the chessboard\n",
    "\n",
    "        Arguments:\n",
    "        - `n`: size of the chessboard\n",
    "        \"\"\"\n",
    "        self._size = n\n",
    "        self._board = graph()\n",
    "\n",
    "        next_point = ((2, 1), (2, -1), \\\n",
    "                      (1, 2), (1, -2), \\\n",
    "                      (-2, 1), (-2, -1), \\\n",
    "                      (-1, 2), (-1, -2))\n",
    "\n",
    "        for x in range(n):\n",
    "            for y in range(n):\n",
    "                start = self.point2index(x, y)\n",
    "                for dx, dy in next_point:\n",
    "                    nx = x + dx\n",
    "                    ny = y + dy\n",
    "\n",
    "                    if self.is_valid(nx, ny):\n",
    "                        end = self.point2index(nx, ny)\n",
    "                        self._board.add_edge(start, end)\n",
    "\n",
    "    def is_valid(self, x, y):\n",
    "        \"\"\"whether or not point (x, y) is valid in the chessboard\n",
    "        \"\"\"\n",
    "        return 0 <= x < self._size and 0 <= y < self._size\n",
    "\n",
    "    def point2index(self, x, y):\n",
    "        \"\"\"convert a chessboard point to the internal graph vertex index\n",
    "        \"\"\"\n",
    "        return x * self._size + y\n",
    "\n",
    "    def index2point(self, p):\n",
    "        \"\"\"convert the internal graph vertex index back to a chessboard point\n",
    "        \"\"\"\n",
    "        return (p / self._size, p % self._size)\n",
    "\n",
    "    def solve_knight(self, x, y, w, z):\n",
    "        \"\"\"just solve it\n",
    "        \"\"\"\n",
    "        start = self.point2index(x, y)\n",
    "        end = self.point2index(w-1, z-1)\n",
    "        self._board.bfs_shortest(start)\n",
    "        path = [self.index2point(x) for x in self._board.get_path(end)]\n",
    "        return [(x + 1, y + 1) for x, y in path]"
   ]
  },
  {
   "cell_type": "code",
   "execution_count": 14,
   "metadata": {
    "collapsed": true
   },
   "outputs": [],
   "source": [
    "def solve(N,x,y,w,z):\n",
    "\n",
    "    chess = chessboard(N)\n",
    "\n",
    "    return chess.solve_knight(x - 1, y - 1, w, z)"
   ]
  },
  {
   "cell_type": "code",
   "execution_count": 15,
   "metadata": {
    "collapsed": true
   },
   "outputs": [],
   "source": [
    "# some test data\n",
    "# $ ./knight.py 6 2 2\n",
    "# [(2, 2), (4, 3), (6, 4), (4, 5), (6, 6)]\n",
    "# $ ./knight.py 6 2 2\n",
    "# [(2, 2), (4, 3), (6, 4), (4, 5), (6, 6)]\n",
    "# $ ./knight.py 4 2 2\n",
    "# [(2, 2), (4, 3), (2, 4), (3, 2), (4, 4)]\n",
    "# $ ./knight.py 4 1 1\n",
    "# [(1, 1), (3, 2), (4, 4)]\n",
    "# $ ./knight.py 4 2 3\n",
    "# [(2, 3), (4, 4)]\n",
    "# $ ./knight.py 20 2 3\n",
    "# [(2, 3), (4, 4), (6, 5), (8, 6), (10, 7), (12, 8), (14, 9), (16, 10), (18, 11), (20, 12), (19, 14), (20, 16), (19, 18), (20, 20)]\n",
    "# $"
   ]
  },
  {
   "cell_type": "code",
   "execution_count": 16,
   "metadata": {
    "collapsed": false
   },
   "outputs": [
    {
     "data": {
      "text/plain": [
       "[(2, 2), (4, 3), (6, 4), (4, 5), (6, 6)]"
      ]
     },
     "execution_count": 16,
     "metadata": {},
     "output_type": "execute_result"
    }
   ],
   "source": [
    "solve(6,2,2,6,6)"
   ]
  },
  {
   "cell_type": "code",
   "execution_count": 17,
   "metadata": {
    "collapsed": false
   },
   "outputs": [
    {
     "data": {
      "text/plain": [
       "[(1, 3), (3, 4), (5, 5), (7, 6), (8, 8)]"
      ]
     },
     "execution_count": 17,
     "metadata": {},
     "output_type": "execute_result"
    }
   ],
   "source": [
    "solve(8,1,3, 8,8 )"
   ]
  },
  {
   "cell_type": "code",
   "execution_count": 19,
   "metadata": {
    "collapsed": false
   },
   "outputs": [
    {
     "data": {
      "text/plain": [
       "[(1, 3), (3, 4), (5, 3), (4, 1)]"
      ]
     },
     "execution_count": 19,
     "metadata": {},
     "output_type": "execute_result"
    }
   ],
   "source": [
    "solve(5,1,3, 4,1)"
   ]
  },
  {
   "cell_type": "code",
   "execution_count": 20,
   "metadata": {
    "collapsed": false
   },
   "outputs": [
    {
     "data": {
      "text/plain": [
       "[(1, 1), (3, 2)]"
      ]
     },
     "execution_count": 20,
     "metadata": {},
     "output_type": "execute_result"
    }
   ],
   "source": [
    "solve(5,1,1, 3,2)"
   ]
  },
  {
   "cell_type": "code",
   "execution_count": 21,
   "metadata": {
    "collapsed": false
   },
   "outputs": [
    {
     "data": {
      "text/plain": [
       "[(1, 1), (3, 2), (4, 4), (5, 2)]"
      ]
     },
     "execution_count": 21,
     "metadata": {},
     "output_type": "execute_result"
    }
   ],
   "source": [
    "solve(5,1,1, 5,2)"
   ]
  },
  {
   "cell_type": "code",
   "execution_count": null,
   "metadata": {
    "collapsed": true
   },
   "outputs": [],
   "source": []
  }
 ],
 "metadata": {
  "kernelspec": {
   "display_name": "Python 2",
   "language": "python",
   "name": "python2"
  },
  "language_info": {
   "codemirror_mode": {
    "name": "ipython",
    "version": 2
   },
   "file_extension": ".py",
   "mimetype": "text/x-python",
   "name": "python",
   "nbconvert_exporter": "python",
   "pygments_lexer": "ipython2",
   "version": "2.7.11"
  }
 },
 "nbformat": 4,
 "nbformat_minor": 0
}
